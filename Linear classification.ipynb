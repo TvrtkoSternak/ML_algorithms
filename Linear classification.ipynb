{
 "cells": [
  {
   "cell_type": "code",
   "execution_count": 1,
   "metadata": {
    "collapsed": true
   },
   "outputs": [],
   "source": [
    "import numpy as np\n",
    "import pandas as pd\n",
    "from sklearn import datasets\n",
    "from sklearn.model_selection import train_test_split\n",
    "import tensorflow as tf"
   ]
  },
  {
   "cell_type": "code",
   "execution_count": 2,
   "metadata": {
    "collapsed": true
   },
   "outputs": [],
   "source": [
    "def input_fn(df,labels, columns):\n",
    "    feature_columns = {k:tf.constant(df[k].values,shape = [df[k].size,1]) for k in columns}\n",
    "    label = tf.constant(labels.values, shape = [labels.size,1])\n",
    "    return feature_columns,label\n",
    "\n",
    "def input_predict(df, columns):\n",
    "    feature_columns = {k:tf.constant(df[k].values,shape = [df[k].size,1]) for k in columns}\n",
    "    return feature_columns"
   ]
  },
  {
   "cell_type": "markdown",
   "metadata": {},
   "source": [
    "Loading datasets for learning"
   ]
  },
  {
   "cell_type": "code",
   "execution_count": 3,
   "metadata": {
    "collapsed": true
   },
   "outputs": [],
   "source": [
    "iris_dataset = datasets.load_iris()\n",
    "iris = pd.DataFrame(iris_dataset.data,columns=iris_dataset.feature_names)\n",
    "iris['target'] = pd.Series(iris_dataset.target)\n",
    "\n",
    "wine_dataset = datasets.load_wine()\n",
    "wine = pd.DataFrame(wine_dataset.data, columns=wine_dataset.feature_names)\n",
    "wine['target'] = pd.Series(wine_dataset.target)\n",
    "\n",
    "breast_cancer_dataset = datasets.load_breast_cancer()\n",
    "breast_cancer = pd.DataFrame(breast_cancer_dataset.data, columns=breast_cancer_dataset.feature_names)\n",
    "breast_cancer['target'] = pd.Series(breast_cancer_dataset.target)"
   ]
  },
  {
   "cell_type": "markdown",
   "metadata": {},
   "source": [
    "Preparing datasets for tensorflow linear classifier"
   ]
  },
  {
   "cell_type": "code",
   "execution_count": 4,
   "metadata": {
    "collapsed": true
   },
   "outputs": [],
   "source": [
    "iris.rename(columns=lambda x: x.replace(' ','').replace('(','').replace(')',''), inplace=True)\n",
    "breast_cancer.rename(columns=lambda x: x.replace(' ',''), inplace=True)\n",
    "breast_cancer['target'] = breast_cancer['target'].map({0: False, 1: True})\n",
    "\n",
    "X_train_iris, X_test_iris, y_train_iris, y_test_iris = train_test_split(iris.iloc[:,1:5], iris[\"target\"], \n",
    "                                                                         test_size=0.33, random_state=42)\n",
    "    \n",
    "X_train_wine, X_test_wine, y_train_wine, y_test_wine = train_test_split(wine.iloc[:,1:13], wine[\"target\"],\n",
    "                                                                         test_size=0.33, random_state=42)\n",
    "    \n",
    "X_train_cancer, X_test_cancer, y_train_cancer, y_test_cancer = train_test_split(breast_cancer.iloc[:,1:30], breast_cancer[\"target\"],\n",
    "                                                                                 test_size=0.33, random_state=42)\n",
    "\n",
    "columns_iris = iris.columns[1:5]\n",
    "feature_columns_iris = [tf.contrib.layers.real_valued_column(k) for k in columns_iris]\n",
    "columns_wine = wine.columns[1:5]\n",
    "feature_columns_wine = [tf.contrib.layers.real_valued_column(k) for k in columns_wine]\n",
    "columns_cancer = breast_cancer.columns[1:5]\n",
    "feature_columns_cancer = [tf.contrib.layers.real_valued_column(k) for k in columns_cancer]"
   ]
  },
  {
   "cell_type": "markdown",
   "metadata": {},
   "source": [
    "Running the classifiers and printing evaluation results"
   ]
  },
  {
   "cell_type": "code",
   "execution_count": 5,
   "metadata": {},
   "outputs": [
    {
     "name": "stdout",
     "output_type": "stream",
     "text": [
      "INFO:tensorflow:Using default config.\n",
      "WARNING:tensorflow:Using temporary folder as model directory: /tmp/tmpW7fSR5\n",
      "INFO:tensorflow:Using config: {'_save_checkpoints_secs': 600, '_num_ps_replicas': 0, '_keep_checkpoint_max': 5, '_task_type': None, '_is_chief': True, '_cluster_spec': <tensorflow.python.training.server_lib.ClusterSpec object at 0x7fcff3d90e10>, '_model_dir': '/tmp/tmpW7fSR5', '_save_checkpoints_steps': None, '_keep_checkpoint_every_n_hours': 10000, '_session_config': None, '_tf_random_seed': None, '_save_summary_steps': 100, '_environment': 'local', '_num_worker_replicas': 0, '_task_id': 0, '_log_step_count_steps': 100, '_tf_config': gpu_options {\n",
      "  per_process_gpu_memory_fraction: 1.0\n",
      "}\n",
      ", '_evaluation_master': '', '_master': ''}\n",
      "INFO:tensorflow:Create CheckpointSaverHook.\n",
      "INFO:tensorflow:Saving checkpoints for 1 into /tmp/tmpW7fSR5/model.ckpt.\n",
      "INFO:tensorflow:loss = 1.09861, step = 1\n",
      "INFO:tensorflow:global_step/sec: 1004.93\n",
      "INFO:tensorflow:loss = 0.190271, step = 101 (0.101 sec)\n",
      "INFO:tensorflow:global_step/sec: 965.54\n",
      "INFO:tensorflow:loss = 0.113776, step = 201 (0.104 sec)\n",
      "INFO:tensorflow:global_step/sec: 1069.92\n",
      "INFO:tensorflow:loss = 0.0813009, step = 301 (0.094 sec)\n",
      "INFO:tensorflow:global_step/sec: 1248.1\n",
      "INFO:tensorflow:loss = 0.063379, step = 401 (0.080 sec)\n",
      "INFO:tensorflow:global_step/sec: 1291.81\n",
      "INFO:tensorflow:loss = 0.052018, step = 501 (0.079 sec)\n",
      "INFO:tensorflow:global_step/sec: 1245.11\n",
      "INFO:tensorflow:loss = 0.044168, step = 601 (0.080 sec)\n",
      "INFO:tensorflow:global_step/sec: 1233.94\n",
      "INFO:tensorflow:loss = 0.0384153, step = 701 (0.081 sec)\n",
      "INFO:tensorflow:global_step/sec: 1206.43\n",
      "INFO:tensorflow:loss = 0.0340158, step = 801 (0.083 sec)\n",
      "INFO:tensorflow:global_step/sec: 1092.51\n",
      "INFO:tensorflow:loss = 0.0305404, step = 901 (0.091 sec)\n",
      "INFO:tensorflow:Saving checkpoints for 1000 into /tmp/tmpW7fSR5/model.ckpt.\n",
      "INFO:tensorflow:Loss for final step: 0.0277497.\n",
      "INFO:tensorflow:Starting evaluation at 2018-04-13-11:20:43\n",
      "INFO:tensorflow:Restoring parameters from /tmp/tmpW7fSR5/model.ckpt-1000\n",
      "INFO:tensorflow:Evaluation [1/1]\n",
      "INFO:tensorflow:Finished evaluation at 2018-04-13-11:20:43\n",
      "INFO:tensorflow:Saving dict for global step 1000: accuracy = 1.0, global_step = 1000, loss = 0.022867\n",
      "{'loss': 0.022867009, 'global_step': 1000, 'accuracy': 1.0}\n"
     ]
    }
   ],
   "source": [
    "classifier_iris = tf.contrib.learn.LinearClassifier(feature_columns=feature_columns_iris, n_classes = 3)\n",
    "classifier_iris.fit(input_fn=lambda: input_fn(X_train_iris,y_train_iris, columns_iris),steps = 1000)\n",
    "evaluation = classifier_iris.evaluate(input_fn=lambda: input_fn(X_test_iris,y_test_iris, columns_iris),steps=1)\n",
    "print(evaluation)"
   ]
  },
  {
   "cell_type": "code",
   "execution_count": 7,
   "metadata": {},
   "outputs": [
    {
     "name": "stdout",
     "output_type": "stream",
     "text": [
      "INFO:tensorflow:Using default config.\n",
      "WARNING:tensorflow:Using temporary folder as model directory: /tmp/tmpS0ENK8\n",
      "INFO:tensorflow:Using config: {'_save_checkpoints_secs': 600, '_num_ps_replicas': 0, '_keep_checkpoint_max': 5, '_task_type': None, '_is_chief': True, '_cluster_spec': <tensorflow.python.training.server_lib.ClusterSpec object at 0x7fcfdcae1210>, '_model_dir': '/tmp/tmpS0ENK8', '_save_checkpoints_steps': None, '_keep_checkpoint_every_n_hours': 10000, '_session_config': None, '_tf_random_seed': None, '_save_summary_steps': 100, '_environment': 'local', '_num_worker_replicas': 0, '_task_id': 0, '_log_step_count_steps': 100, '_tf_config': gpu_options {\n",
      "  per_process_gpu_memory_fraction: 1.0\n",
      "}\n",
      ", '_evaluation_master': '', '_master': ''}\n",
      "INFO:tensorflow:Create CheckpointSaverHook.\n",
      "INFO:tensorflow:Saving checkpoints for 1 into /tmp/tmpS0ENK8/model.ckpt.\n",
      "INFO:tensorflow:loss = 1.09861, step = 1\n",
      "INFO:tensorflow:global_step/sec: 1045.23\n",
      "INFO:tensorflow:loss = 0.885826, step = 101 (0.097 sec)\n",
      "INFO:tensorflow:global_step/sec: 1192.65\n",
      "INFO:tensorflow:loss = 0.771338, step = 201 (0.084 sec)\n",
      "INFO:tensorflow:global_step/sec: 1188.62\n",
      "INFO:tensorflow:loss = 0.746333, step = 301 (0.085 sec)\n",
      "INFO:tensorflow:global_step/sec: 1107.81\n",
      "INFO:tensorflow:loss = 0.73146, step = 401 (0.090 sec)\n",
      "INFO:tensorflow:global_step/sec: 1219.75\n",
      "INFO:tensorflow:loss = 0.717344, step = 501 (0.082 sec)\n",
      "INFO:tensorflow:global_step/sec: 1264.17\n",
      "INFO:tensorflow:loss = 0.704758, step = 601 (0.079 sec)\n",
      "INFO:tensorflow:global_step/sec: 1206.74\n",
      "INFO:tensorflow:loss = 0.694372, step = 701 (0.083 sec)\n",
      "INFO:tensorflow:global_step/sec: 1314.94\n",
      "INFO:tensorflow:loss = 0.686523, step = 801 (0.076 sec)\n",
      "INFO:tensorflow:global_step/sec: 1283.3\n",
      "INFO:tensorflow:loss = 0.677393, step = 901 (0.078 sec)\n",
      "INFO:tensorflow:Saving checkpoints for 1000 into /tmp/tmpS0ENK8/model.ckpt.\n",
      "INFO:tensorflow:Loss for final step: 0.669764.\n",
      "INFO:tensorflow:Starting evaluation at 2018-04-13-11:20:59\n",
      "INFO:tensorflow:Restoring parameters from /tmp/tmpS0ENK8/model.ckpt-1000\n",
      "INFO:tensorflow:Evaluation [1/1]\n",
      "INFO:tensorflow:Finished evaluation at 2018-04-13-11:20:59\n",
      "INFO:tensorflow:Saving dict for global step 1000: accuracy = 0.627119, global_step = 1000, loss = 0.753451\n",
      "{'loss': 0.75345057, 'global_step': 1000, 'accuracy': 0.62711865}\n"
     ]
    }
   ],
   "source": [
    "classifier_wine = tf.contrib.learn.LinearClassifier(feature_columns=feature_columns_wine, n_classes = 3)\n",
    "classifier_wine.fit(input_fn=lambda: input_fn(X_train_wine,y_train_wine, columns_wine),steps = 1000)\n",
    "evaluation = classifier_wine.evaluate(input_fn=lambda: input_fn(X_test_wine,y_test_wine, columns_wine),steps=1)\n",
    "print(evaluation)"
   ]
  },
  {
   "cell_type": "code",
   "execution_count": null,
   "metadata": {},
   "outputs": [],
   "source": [
    "classifier_cancer = tf.contrib.learn.LinearClassifier(feature_columns=feature_columns_cancer)\n",
    "classifier_cancer.fit(input_fn=lambda: input_fn(X_train_cancer,y_train_cancer, columns_cancer),steps = 1000)\n",
    "evaluation = classifier_cancer.evaluate(input_fn=lambda: input_fn(X_test_cancer,y_test_cancer, columns_cancer),steps=1)\n",
    "print(evaluation)"
   ]
  }
 ],
 "metadata": {
  "kernelspec": {
   "display_name": "Python 2",
   "language": "python",
   "name": "python2"
  },
  "language_info": {
   "codemirror_mode": {
    "name": "ipython",
    "version": 2
   },
   "file_extension": ".py",
   "mimetype": "text/x-python",
   "name": "python",
   "nbconvert_exporter": "python",
   "pygments_lexer": "ipython2",
   "version": "2.7.13"
  }
 },
 "nbformat": 4,
 "nbformat_minor": 2
}
